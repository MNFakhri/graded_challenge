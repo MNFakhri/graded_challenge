{
 "cells": [
  {
   "cell_type": "markdown",
   "metadata": {},
   "source": [
    "# Graded Challenge 3\n",
    "- Muhammad Nafisa Fakhri\n",
    "- FTDS Batch 013"
   ]
  },
  {
   "cell_type": "markdown",
   "metadata": {},
   "source": [
    "Query data dari SQL big query public data waste and diversion of Austin Smart City\n",
    "```\n",
    "SELECT load_time,load_type,load_weight,dropoff_site\n",
    "FROM `bigquery-public-data.austin_waste.waste_and_diversion`\n",
    "LIMIT 150000\n",
    "```"
   ]
  },
  {
   "cell_type": "markdown",
   "metadata": {},
   "source": [
    "Kamu adalah anggota tim Data Science di Austin Smart City dan sedang mengerjakan projek analisa sistem pembuangan dan pengelolaan sampah di kota tersebut. Sebagai anggota tim, berdasarkan data yang tersedia, coba analisa data tersebut menggunakan statistik deskriptif dan inferensial, serta berikan insight kepada pemerintah kota Austin mengenai kondisi sistem pembuangan dan pengelolaan sampah. Gunakan guideline/langkah berikut untuk mempermudah kamu dalam menganalisa."
   ]
  },
  {
   "cell_type": "code",
   "execution_count": 1,
   "metadata": {},
   "outputs": [],
   "source": [
    "import pandas as pd\n",
    "import numpy as np\n",
    "import matplotlib.pyplot as plt\n",
    "import seaborn as sns\n",
    "from scipy import stats"
   ]
  },
  {
   "cell_type": "code",
   "execution_count": 2,
   "metadata": {},
   "outputs": [
    {
     "data": {
      "text/html": [
       "<div>\n",
       "<style scoped>\n",
       "    .dataframe tbody tr th:only-of-type {\n",
       "        vertical-align: middle;\n",
       "    }\n",
       "\n",
       "    .dataframe tbody tr th {\n",
       "        vertical-align: top;\n",
       "    }\n",
       "\n",
       "    .dataframe thead th {\n",
       "        text-align: right;\n",
       "    }\n",
       "</style>\n",
       "<table border=\"1\" class=\"dataframe\">\n",
       "  <thead>\n",
       "    <tr style=\"text-align: right;\">\n",
       "      <th></th>\n",
       "      <th>load_time</th>\n",
       "      <th>load_type</th>\n",
       "      <th>load_weight</th>\n",
       "      <th>dropoff_site</th>\n",
       "    </tr>\n",
       "  </thead>\n",
       "  <tbody>\n",
       "    <tr>\n",
       "      <th>0</th>\n",
       "      <td>2009-08-07 11:51:00 UTC</td>\n",
       "      <td>RECYCLING - SINGLE STREAM</td>\n",
       "      <td>4400.0</td>\n",
       "      <td>MRF</td>\n",
       "    </tr>\n",
       "    <tr>\n",
       "      <th>1</th>\n",
       "      <td>2008-04-11 12:31:00 UTC</td>\n",
       "      <td>RECYCLING - PAPER</td>\n",
       "      <td>1920.0</td>\n",
       "      <td>MRF</td>\n",
       "    </tr>\n",
       "    <tr>\n",
       "      <th>2</th>\n",
       "      <td>2009-01-16 12:58:00 UTC</td>\n",
       "      <td>RECYCLING - SINGLE STREAM</td>\n",
       "      <td>4140.0</td>\n",
       "      <td>MRF</td>\n",
       "    </tr>\n",
       "    <tr>\n",
       "      <th>3</th>\n",
       "      <td>2009-07-10 11:21:00 UTC</td>\n",
       "      <td>RECYCLING - SINGLE STREAM</td>\n",
       "      <td>4020.0</td>\n",
       "      <td>MRF</td>\n",
       "    </tr>\n",
       "    <tr>\n",
       "      <th>4</th>\n",
       "      <td>2006-02-03 12:36:00 UTC</td>\n",
       "      <td>RECYCLING - COMINGLE</td>\n",
       "      <td>1700.0</td>\n",
       "      <td>MRF</td>\n",
       "    </tr>\n",
       "  </tbody>\n",
       "</table>\n",
       "</div>"
      ],
      "text/plain": [
       "                 load_time                  load_type  load_weight  \\\n",
       "0  2009-08-07 11:51:00 UTC  RECYCLING - SINGLE STREAM       4400.0   \n",
       "1  2008-04-11 12:31:00 UTC          RECYCLING - PAPER       1920.0   \n",
       "2  2009-01-16 12:58:00 UTC  RECYCLING - SINGLE STREAM       4140.0   \n",
       "3  2009-07-10 11:21:00 UTC  RECYCLING - SINGLE STREAM       4020.0   \n",
       "4  2006-02-03 12:36:00 UTC       RECYCLING - COMINGLE       1700.0   \n",
       "\n",
       "  dropoff_site  \n",
       "0          MRF  \n",
       "1          MRF  \n",
       "2          MRF  \n",
       "3          MRF  \n",
       "4          MRF  "
      ]
     },
     "execution_count": 2,
     "metadata": {},
     "output_type": "execute_result"
    }
   ],
   "source": [
    "data_mentah = pd.read_csv(\"h8dsft_P0GC3_mnfakhri.csv\")\n",
    "data_mentah.head()"
   ]
  },
  {
   "cell_type": "code",
   "execution_count": 3,
   "metadata": {},
   "outputs": [
    {
     "data": {
      "text/html": [
       "<div>\n",
       "<style scoped>\n",
       "    .dataframe tbody tr th:only-of-type {\n",
       "        vertical-align: middle;\n",
       "    }\n",
       "\n",
       "    .dataframe tbody tr th {\n",
       "        vertical-align: top;\n",
       "    }\n",
       "\n",
       "    .dataframe thead th {\n",
       "        text-align: right;\n",
       "    }\n",
       "</style>\n",
       "<table border=\"1\" class=\"dataframe\">\n",
       "  <thead>\n",
       "    <tr style=\"text-align: right;\">\n",
       "      <th></th>\n",
       "      <th>load_time</th>\n",
       "      <th>load_type</th>\n",
       "      <th>load_weight</th>\n",
       "      <th>dropoff_site</th>\n",
       "    </tr>\n",
       "  </thead>\n",
       "  <tbody>\n",
       "    <tr>\n",
       "      <th>149995</th>\n",
       "      <td>2011-08-17 12:45:00 UTC</td>\n",
       "      <td>RECYCLING - SINGLE STREAM</td>\n",
       "      <td>13380.0</td>\n",
       "      <td>TDS - MRF</td>\n",
       "    </tr>\n",
       "    <tr>\n",
       "      <th>149996</th>\n",
       "      <td>2011-06-08 10:59:00 UTC</td>\n",
       "      <td>RECYCLING - SINGLE STREAM</td>\n",
       "      <td>14080.0</td>\n",
       "      <td>TDS - MRF</td>\n",
       "    </tr>\n",
       "    <tr>\n",
       "      <th>149997</th>\n",
       "      <td>2012-04-11 12:09:00 UTC</td>\n",
       "      <td>RECYCLING - SINGLE STREAM</td>\n",
       "      <td>14260.0</td>\n",
       "      <td>TDS - MRF</td>\n",
       "    </tr>\n",
       "    <tr>\n",
       "      <th>149998</th>\n",
       "      <td>2011-08-31 02:50:00 UTC</td>\n",
       "      <td>RECYCLING - SINGLE STREAM</td>\n",
       "      <td>4100.0</td>\n",
       "      <td>TDS - MRF</td>\n",
       "    </tr>\n",
       "    <tr>\n",
       "      <th>149999</th>\n",
       "      <td>2011-07-20 11:21:00 UTC</td>\n",
       "      <td>RECYCLING - SINGLE STREAM</td>\n",
       "      <td>6220.0</td>\n",
       "      <td>TDS - MRF</td>\n",
       "    </tr>\n",
       "  </tbody>\n",
       "</table>\n",
       "</div>"
      ],
      "text/plain": [
       "                      load_time                  load_type  load_weight  \\\n",
       "149995  2011-08-17 12:45:00 UTC  RECYCLING - SINGLE STREAM      13380.0   \n",
       "149996  2011-06-08 10:59:00 UTC  RECYCLING - SINGLE STREAM      14080.0   \n",
       "149997  2012-04-11 12:09:00 UTC  RECYCLING - SINGLE STREAM      14260.0   \n",
       "149998  2011-08-31 02:50:00 UTC  RECYCLING - SINGLE STREAM       4100.0   \n",
       "149999  2011-07-20 11:21:00 UTC  RECYCLING - SINGLE STREAM       6220.0   \n",
       "\n",
       "       dropoff_site  \n",
       "149995    TDS - MRF  \n",
       "149996    TDS - MRF  \n",
       "149997    TDS - MRF  \n",
       "149998    TDS - MRF  \n",
       "149999    TDS - MRF  "
      ]
     },
     "execution_count": 3,
     "metadata": {},
     "output_type": "execute_result"
    }
   ],
   "source": [
    "data_mentah.tail()"
   ]
  },
  {
   "cell_type": "code",
   "execution_count": 4,
   "metadata": {},
   "outputs": [
    {
     "name": "stdout",
     "output_type": "stream",
     "text": [
      "<class 'pandas.core.frame.DataFrame'>\n",
      "RangeIndex: 150000 entries, 0 to 149999\n",
      "Data columns (total 4 columns):\n",
      " #   Column        Non-Null Count   Dtype  \n",
      "---  ------        --------------   -----  \n",
      " 0   load_time     150000 non-null  object \n",
      " 1   load_type     150000 non-null  object \n",
      " 2   load_weight   144934 non-null  float64\n",
      " 3   dropoff_site  150000 non-null  object \n",
      "dtypes: float64(1), object(3)\n",
      "memory usage: 4.6+ MB\n"
     ]
    }
   ],
   "source": [
    "data_mentah.info()"
   ]
  },
  {
   "cell_type": "markdown",
   "metadata": {},
   "source": [
    "1. Sebelum melakukan perhitungan dan analisa statistik, lakukan pembersihan data terlebih dahulu. Pastikan tidak ada missing value, dsb."
   ]
  },
  {
   "cell_type": "markdown",
   "metadata": {},
   "source": [
    "Yang pertama adalah mengubah format data load time menjdi format date dengan menggunakan fungsi pandas."
   ]
  },
  {
   "cell_type": "code",
   "execution_count": 5,
   "metadata": {},
   "outputs": [
    {
     "data": {
      "text/html": [
       "<div>\n",
       "<style scoped>\n",
       "    .dataframe tbody tr th:only-of-type {\n",
       "        vertical-align: middle;\n",
       "    }\n",
       "\n",
       "    .dataframe tbody tr th {\n",
       "        vertical-align: top;\n",
       "    }\n",
       "\n",
       "    .dataframe thead th {\n",
       "        text-align: right;\n",
       "    }\n",
       "</style>\n",
       "<table border=\"1\" class=\"dataframe\">\n",
       "  <thead>\n",
       "    <tr style=\"text-align: right;\">\n",
       "      <th></th>\n",
       "      <th>load_time</th>\n",
       "      <th>load_type</th>\n",
       "      <th>load_weight</th>\n",
       "      <th>dropoff_site</th>\n",
       "    </tr>\n",
       "  </thead>\n",
       "  <tbody>\n",
       "    <tr>\n",
       "      <th>0</th>\n",
       "      <td>2000-01-26 12:39:00+00:00</td>\n",
       "      <td>RECYCLING - PAPER</td>\n",
       "      <td>2940.0</td>\n",
       "      <td>MRF</td>\n",
       "    </tr>\n",
       "    <tr>\n",
       "      <th>1</th>\n",
       "      <td>2004-08-30 01:26:00+00:00</td>\n",
       "      <td>RECYCLING - PAPER</td>\n",
       "      <td>8580.0</td>\n",
       "      <td>MRF</td>\n",
       "    </tr>\n",
       "    <tr>\n",
       "      <th>2</th>\n",
       "      <td>2004-08-30 01:40:00+00:00</td>\n",
       "      <td>RECYCLING - COMINGLE</td>\n",
       "      <td>4580.0</td>\n",
       "      <td>MRF</td>\n",
       "    </tr>\n",
       "    <tr>\n",
       "      <th>3</th>\n",
       "      <td>2004-10-01 01:00:00+00:00</td>\n",
       "      <td>RECYCLING - PAPER</td>\n",
       "      <td>2760.0</td>\n",
       "      <td>MRF</td>\n",
       "    </tr>\n",
       "    <tr>\n",
       "      <th>4</th>\n",
       "      <td>2004-10-01 01:00:00+00:00</td>\n",
       "      <td>RECYCLING - COMINGLE</td>\n",
       "      <td>3420.0</td>\n",
       "      <td>MRF</td>\n",
       "    </tr>\n",
       "    <tr>\n",
       "      <th>...</th>\n",
       "      <td>...</td>\n",
       "      <td>...</td>\n",
       "      <td>...</td>\n",
       "      <td>...</td>\n",
       "    </tr>\n",
       "    <tr>\n",
       "      <th>149995</th>\n",
       "      <td>2021-07-11 07:05:24+00:00</td>\n",
       "      <td>RECYCLING - SINGLE STREAM</td>\n",
       "      <td>NaN</td>\n",
       "      <td>TDS - MRF</td>\n",
       "    </tr>\n",
       "    <tr>\n",
       "      <th>149996</th>\n",
       "      <td>2021-07-11 07:05:51+00:00</td>\n",
       "      <td>RECYCLING - SINGLE STREAM</td>\n",
       "      <td>0.0</td>\n",
       "      <td>TDS - MRF</td>\n",
       "    </tr>\n",
       "    <tr>\n",
       "      <th>149997</th>\n",
       "      <td>2021-07-11 07:07:01+00:00</td>\n",
       "      <td>GARBAGE COLLECTIONS</td>\n",
       "      <td>NaN</td>\n",
       "      <td>ZILKER</td>\n",
       "    </tr>\n",
       "    <tr>\n",
       "      <th>149998</th>\n",
       "      <td>2021-07-11 07:07:01+00:00</td>\n",
       "      <td>GARBAGE COLLECTIONS</td>\n",
       "      <td>NaN</td>\n",
       "      <td>ZILKER</td>\n",
       "    </tr>\n",
       "    <tr>\n",
       "      <th>149999</th>\n",
       "      <td>2021-07-11 07:07:05+00:00</td>\n",
       "      <td>TIRES</td>\n",
       "      <td>2120.0</td>\n",
       "      <td>MRF</td>\n",
       "    </tr>\n",
       "  </tbody>\n",
       "</table>\n",
       "<p>150000 rows × 4 columns</p>\n",
       "</div>"
      ],
      "text/plain": [
       "                       load_time                  load_type  load_weight  \\\n",
       "0      2000-01-26 12:39:00+00:00          RECYCLING - PAPER       2940.0   \n",
       "1      2004-08-30 01:26:00+00:00          RECYCLING - PAPER       8580.0   \n",
       "2      2004-08-30 01:40:00+00:00       RECYCLING - COMINGLE       4580.0   \n",
       "3      2004-10-01 01:00:00+00:00          RECYCLING - PAPER       2760.0   \n",
       "4      2004-10-01 01:00:00+00:00       RECYCLING - COMINGLE       3420.0   \n",
       "...                          ...                        ...          ...   \n",
       "149995 2021-07-11 07:05:24+00:00  RECYCLING - SINGLE STREAM          NaN   \n",
       "149996 2021-07-11 07:05:51+00:00  RECYCLING - SINGLE STREAM          0.0   \n",
       "149997 2021-07-11 07:07:01+00:00        GARBAGE COLLECTIONS          NaN   \n",
       "149998 2021-07-11 07:07:01+00:00        GARBAGE COLLECTIONS          NaN   \n",
       "149999 2021-07-11 07:07:05+00:00                      TIRES       2120.0   \n",
       "\n",
       "       dropoff_site  \n",
       "0               MRF  \n",
       "1               MRF  \n",
       "2               MRF  \n",
       "3               MRF  \n",
       "4               MRF  \n",
       "...             ...  \n",
       "149995    TDS - MRF  \n",
       "149996    TDS - MRF  \n",
       "149997       ZILKER  \n",
       "149998       ZILKER  \n",
       "149999          MRF  \n",
       "\n",
       "[150000 rows x 4 columns]"
      ]
     },
     "execution_count": 5,
     "metadata": {},
     "output_type": "execute_result"
    }
   ],
   "source": [
    "data_mentah[\"load_time\"] = pd.to_datetime(data_mentah[\"load_time\"])\n",
    "data_mentah.sort_values(by=\"load_time\",ascending=True,inplace=True)\n",
    "data_mentah.reset_index(drop=True,inplace=True)\n",
    "data_mentah"
   ]
  },
  {
   "cell_type": "code",
   "execution_count": 6,
   "metadata": {},
   "outputs": [
    {
     "data": {
      "text/html": [
       "<div>\n",
       "<style scoped>\n",
       "    .dataframe tbody tr th:only-of-type {\n",
       "        vertical-align: middle;\n",
       "    }\n",
       "\n",
       "    .dataframe tbody tr th {\n",
       "        vertical-align: top;\n",
       "    }\n",
       "\n",
       "    .dataframe thead th {\n",
       "        text-align: right;\n",
       "    }\n",
       "</style>\n",
       "<table border=\"1\" class=\"dataframe\">\n",
       "  <thead>\n",
       "    <tr style=\"text-align: right;\">\n",
       "      <th></th>\n",
       "      <th>load_time</th>\n",
       "      <th>load_type</th>\n",
       "      <th>load_weight</th>\n",
       "      <th>dropoff_site</th>\n",
       "    </tr>\n",
       "  </thead>\n",
       "  <tbody>\n",
       "    <tr>\n",
       "      <th>1989</th>\n",
       "      <td>2004-11-17 12:00:00+00:00</td>\n",
       "      <td>RECYCLING - PAPER</td>\n",
       "      <td>0.0</td>\n",
       "      <td>MRF</td>\n",
       "    </tr>\n",
       "    <tr>\n",
       "      <th>2634</th>\n",
       "      <td>2004-12-02 01:37:00+00:00</td>\n",
       "      <td>RECYCLING - COMINGLE</td>\n",
       "      <td>0.0</td>\n",
       "      <td>MRF</td>\n",
       "    </tr>\n",
       "    <tr>\n",
       "      <th>3470</th>\n",
       "      <td>2004-12-21 10:13:00+00:00</td>\n",
       "      <td>RECYCLING - PAPER</td>\n",
       "      <td>0.0</td>\n",
       "      <td>MRF</td>\n",
       "    </tr>\n",
       "    <tr>\n",
       "      <th>3839</th>\n",
       "      <td>2004-12-30 02:19:00+00:00</td>\n",
       "      <td>RECYCLING - PAPER</td>\n",
       "      <td>0.0</td>\n",
       "      <td>MRF</td>\n",
       "    </tr>\n",
       "    <tr>\n",
       "      <th>3843</th>\n",
       "      <td>2004-12-30 02:26:00+00:00</td>\n",
       "      <td>RECYCLING - COMINGLE</td>\n",
       "      <td>0.0</td>\n",
       "      <td>MRF</td>\n",
       "    </tr>\n",
       "    <tr>\n",
       "      <th>...</th>\n",
       "      <td>...</td>\n",
       "      <td>...</td>\n",
       "      <td>...</td>\n",
       "      <td>...</td>\n",
       "    </tr>\n",
       "    <tr>\n",
       "      <th>138953</th>\n",
       "      <td>2019-08-07 12:00:00+00:00</td>\n",
       "      <td>GARBAGE COLLECTIONS</td>\n",
       "      <td>0.0</td>\n",
       "      <td>MRF</td>\n",
       "    </tr>\n",
       "    <tr>\n",
       "      <th>138962</th>\n",
       "      <td>2019-08-09 12:00:00+00:00</td>\n",
       "      <td>GARBAGE COLLECTIONS</td>\n",
       "      <td>0.0</td>\n",
       "      <td>MRF</td>\n",
       "    </tr>\n",
       "    <tr>\n",
       "      <th>145443</th>\n",
       "      <td>2020-10-13 12:00:00+00:00</td>\n",
       "      <td>RECYCLING - SINGLE STREAM</td>\n",
       "      <td>0.0</td>\n",
       "      <td>TDS - MRF</td>\n",
       "    </tr>\n",
       "    <tr>\n",
       "      <th>149993</th>\n",
       "      <td>2021-07-11 07:03:07+00:00</td>\n",
       "      <td>GARBAGE COLLECTIONS</td>\n",
       "      <td>0.0</td>\n",
       "      <td>MRF</td>\n",
       "    </tr>\n",
       "    <tr>\n",
       "      <th>149996</th>\n",
       "      <td>2021-07-11 07:05:51+00:00</td>\n",
       "      <td>RECYCLING - SINGLE STREAM</td>\n",
       "      <td>0.0</td>\n",
       "      <td>TDS - MRF</td>\n",
       "    </tr>\n",
       "  </tbody>\n",
       "</table>\n",
       "<p>155 rows × 4 columns</p>\n",
       "</div>"
      ],
      "text/plain": [
       "                       load_time                  load_type  load_weight  \\\n",
       "1989   2004-11-17 12:00:00+00:00          RECYCLING - PAPER          0.0   \n",
       "2634   2004-12-02 01:37:00+00:00       RECYCLING - COMINGLE          0.0   \n",
       "3470   2004-12-21 10:13:00+00:00          RECYCLING - PAPER          0.0   \n",
       "3839   2004-12-30 02:19:00+00:00          RECYCLING - PAPER          0.0   \n",
       "3843   2004-12-30 02:26:00+00:00       RECYCLING - COMINGLE          0.0   \n",
       "...                          ...                        ...          ...   \n",
       "138953 2019-08-07 12:00:00+00:00        GARBAGE COLLECTIONS          0.0   \n",
       "138962 2019-08-09 12:00:00+00:00        GARBAGE COLLECTIONS          0.0   \n",
       "145443 2020-10-13 12:00:00+00:00  RECYCLING - SINGLE STREAM          0.0   \n",
       "149993 2021-07-11 07:03:07+00:00        GARBAGE COLLECTIONS          0.0   \n",
       "149996 2021-07-11 07:05:51+00:00  RECYCLING - SINGLE STREAM          0.0   \n",
       "\n",
       "       dropoff_site  \n",
       "1989            MRF  \n",
       "2634            MRF  \n",
       "3470            MRF  \n",
       "3839            MRF  \n",
       "3843            MRF  \n",
       "...             ...  \n",
       "138953          MRF  \n",
       "138962          MRF  \n",
       "145443    TDS - MRF  \n",
       "149993          MRF  \n",
       "149996    TDS - MRF  \n",
       "\n",
       "[155 rows x 4 columns]"
      ]
     },
     "execution_count": 6,
     "metadata": {},
     "output_type": "execute_result"
    }
   ],
   "source": [
    "data_mentah.query(\"load_weight == 0\")"
   ]
  },
  {
   "cell_type": "code",
   "execution_count": 7,
   "metadata": {},
   "outputs": [
    {
     "data": {
      "text/plain": [
       "load_time          0\n",
       "load_type          0\n",
       "load_weight     5066\n",
       "dropoff_site       0\n",
       "dtype: int64"
      ]
     },
     "execution_count": 7,
     "metadata": {},
     "output_type": "execute_result"
    }
   ],
   "source": [
    "data_mentah.isna().sum()"
   ]
  },
  {
   "cell_type": "markdown",
   "metadata": {},
   "source": [
    "Terdapat missing value pada kolom load weight sebesar 5066 data, maka dari itu diperlukan cleaning data agar data tersebut bisa diolah."
   ]
  },
  {
   "cell_type": "markdown",
   "metadata": {},
   "source": [
    "Kita melakukan pembuatan grafik dari data load weight, garis nilai median data load weight dan garis nilai rata-rata data load weight dengan tujuan untuk menentukan nilai yang akan mengisi missing value dari data load weight."
   ]
  },
  {
   "cell_type": "code",
   "execution_count": 8,
   "metadata": {},
   "outputs": [
    {
     "data": {
      "image/png": "[encoded data removed]",
      "text/plain": [
       "<Figure size 1440x576 with 1 Axes>"
      ]
     },
     "metadata": {
      "needs_background": "light"
     },
     "output_type": "display_data"
    }
   ],
   "source": [
    "plt.figure(figsize=(20,8))\n",
    "sns.histplot(data_mentah[\"load_weight\"],kde=True,label=\"Data Load Weight\")\n",
    "plt.axvline(data_mentah[\"load_weight\"].mean(),color=\"red\",label=\"Rata-rata Data Load Weight\")\n",
    "plt.axvline(data_mentah[\"load_weight\"].median(),color=\"green\",label=\"Median dari Data Load weight\")\n",
    "plt.xlabel(\"Value\")\n",
    "plt.ylabel(\"Frequency\")\n",
    "plt.title(\"Tabel Distribusi Data Load Weight\")\n",
    "plt.legend()\n",
    "plt.show()"
   ]
  },
  {
   "cell_type": "markdown",
   "metadata": {},
   "source": [
    "Berdasarkan grafik tersebut terlihat bahwa garis dari median data load weight lebih mendekati data puncak tertinggi dari data load weight dibandingkan dengan garis rata-rata dari data load weight. maka dari itu untuk mengisi missing value dari data load weight kita menggunakan nilai median dari data tersebut."
   ]
  },
  {
   "cell_type": "code",
   "execution_count": 9,
   "metadata": {},
   "outputs": [
    {
     "name": "stdout",
     "output_type": "stream",
     "text": [
      "5800.0\n"
     ]
    }
   ],
   "source": [
    "print(data_mentah[\"load_weight\"].median())"
   ]
  },
  {
   "cell_type": "markdown",
   "metadata": {},
   "source": [
    "2. Selanjutnya, lakukan eksplorasi data sederhana guna mengetahui dan mengenali data yang kamu punya. Kamu bisa lakukan hal-hal berikut untuk mengeksplorasi data kamu."
   ]
  },
  {
   "cell_type": "code",
   "execution_count": 10,
   "metadata": {},
   "outputs": [
    {
     "name": "stdout",
     "output_type": "stream",
     "text": [
      "<class 'pandas.core.frame.DataFrame'>\n",
      "RangeIndex: 150000 entries, 0 to 149999\n",
      "Data columns (total 4 columns):\n",
      " #   Column        Non-Null Count   Dtype              \n",
      "---  ------        --------------   -----              \n",
      " 0   load_time     150000 non-null  datetime64[ns, UTC]\n",
      " 1   load_type     150000 non-null  object             \n",
      " 2   load_weight   150000 non-null  float64            \n",
      " 3   dropoff_site  150000 non-null  object             \n",
      "dtypes: datetime64[ns, UTC](1), float64(1), object(2)\n",
      "memory usage: 4.6+ MB\n"
     ]
    }
   ],
   "source": [
    "data_mentah[\"load_weight\"].fillna(data_mentah[\"load_weight\"].median(),inplace=True)\n",
    "data_mentah.info()"
   ]
  },
  {
   "cell_type": "markdown",
   "metadata": {},
   "source": [
    "Berdasarkan hasil generate function dari data tesebut diperoleh tipe data dari ke-empat kolom tersebut yaitu kolom load time dengan tipe data datetime, kolom load type dengan tipe data object, kolom load weight dengan tipe data float dan kolom drop off site dengan tipe data object. Hal yang kita bisa dapat disini adalah jika kita ingin melakukan pengolahan data berupa angka, maka kolom load weight saja yang dapat diolah, sedangkan untuk kolom load type dan drop off site yang bertipe object hanya bisa kita lihat untuk pemilihan data yang akan diolah (query)."
   ]
  },
  {
   "cell_type": "code",
   "execution_count": 11,
   "metadata": {},
   "outputs": [
    {
     "name": "stdout",
     "output_type": "stream",
     "text": [
      "['RECYCLING - PAPER' 'RECYCLING - COMINGLE' 'SWEEPING'\n",
      " 'RECYCLING - SINGLE STREAM' 'YARD TRIMMING' 'GARBAGE COLLECTIONS'\n",
      " 'MIXED LITTER' 'RECYCLED METAL' 'BRUSH' 'YARD TRIMMING - X-MAS TREES'\n",
      " 'RECYCLING - PLASTIC BAGS' 'LITTER' 'BULK' 'DEAD ANIMAL' 'TIRES' 'MULCH'\n",
      " 'ORGANICS' 'CONTAMINATED RECYCLING']\n",
      "(18,)\n"
     ]
    }
   ],
   "source": [
    "print(data_mentah[\"load_type\"].unique())\n",
    "print(data_mentah[\"load_type\"].unique().shape)"
   ]
  },
  {
   "cell_type": "markdown",
   "metadata": {},
   "source": [
    "Dari informasi tersebut terdapat 18 jenis sampah yang terdapat pada tempat pembuangan sampah di kota Austin, yaitu \"RECYCLING - SINGLE STREAM\", \"RECYCLING - PAPER\", \"RECYCLING - COMINGLE\", \"SWEEPING\", \"BRUSH\", \"TIRES\",\"BULK\", \"RECYCLED METAL\", \"YARD TRIMMING\", \"MIXED LITTER\", \"GARBAGE COLLECTIONS\", \"ORGANICS\", \"RECYCLING - PLASTIC BAGS\", \"MULCH\", \"LITTER\", \"YARD TRIMMING - X-MAS TREES\", \"CONTAMINATED RECYCLING\" dan \"DEAD ANIMAL\"."
   ]
  },
  {
   "cell_type": "code",
   "execution_count": 12,
   "metadata": {},
   "outputs": [
    {
     "name": "stdout",
     "output_type": "stream",
     "text": [
      "['MRF' 'WILCAB' 'ELMONT' 'KRAMER' 'CLARKSON' 'ZILKER' 'PARK BEND'\n",
      " 'TDS - MRF']\n",
      "(8,)\n"
     ]
    }
   ],
   "source": [
    "print(data_mentah[\"dropoff_site\"].unique())\n",
    "print(data_mentah[\"dropoff_site\"].unique().shape)"
   ]
  },
  {
   "cell_type": "markdown",
   "metadata": {},
   "source": [
    "Terdapat 8 tempat dropoff dari sampah tersebut yaitu \"MRF\", \"ELMONT\", \"KRAMER\", \"WILCAB\", \"ZILKER\", \"CLARKSON\", \"PARK BEND\", \"TDS - MRF\""
   ]
  },
  {
   "cell_type": "code",
   "execution_count": 13,
   "metadata": {},
   "outputs": [
    {
     "name": "stdout",
     "output_type": "stream",
     "text": [
      "Data pertama yang tercatat adalah pada: 2000-01-26 12:39:00+00:00\n",
      "Data terakhir yang tercatat adalah pada: 2021-07-11 07:07:05+00:00\n"
     ]
    }
   ],
   "source": [
    "print(\"Data pertama yang tercatat adalah pada:\",data_mentah.loc[0,\"load_time\"])\n",
    "print(\"Data terakhir yang tercatat adalah pada:\",data_mentah.loc[149999,\"load_time\"])"
   ]
  },
  {
   "cell_type": "markdown",
   "metadata": {},
   "source": [
    "Pengambilan data tersebut dimulai dari 2000-01-26 dan yang terakhir tercatat adalah 2021-07-11"
   ]
  },
  {
   "cell_type": "code",
   "execution_count": 14,
   "metadata": {},
   "outputs": [
    {
     "name": "stdout",
     "output_type": "stream",
     "text": [
      "7088.65162\n",
      "5800.0\n",
      "0    5800.0\n",
      "Name: load_weight, dtype: float64\n"
     ]
    }
   ],
   "source": [
    "print(data_mentah[\"load_weight\"].mean())\n",
    "print(data_mentah[\"load_weight\"].median())\n",
    "print(data_mentah[\"load_weight\"].mode())"
   ]
  },
  {
   "cell_type": "markdown",
   "metadata": {},
   "source": [
    "- Rata-rata dari data load weight keselurhan adalah 7088.65162\n",
    "- Median dari data load weight keseluruhan adalah 5800.0\n",
    "- Modus dari data load weight keseluruhan adalah 5800.0"
   ]
  },
  {
   "cell_type": "code",
   "execution_count": 15,
   "metadata": {},
   "outputs": [
    {
     "name": "stdout",
     "output_type": "stream",
     "text": [
      "Jumlah data load weight pada dropoff site MRF adalah: 89625 data\n",
      " \n",
      "Jumlah data load weight pada dropoff site WILCAB adalah: 2754 data\n",
      " \n",
      "Jumlah data load weight pada dropoff site ELMONT adalah: 1462 data\n",
      " \n",
      "Jumlah data load weight pada dropoff site KRAMER adalah: 316 data\n",
      " \n",
      "Jumlah data load weight pada dropoff site CLARKSON adalah: 386 data\n",
      " \n",
      "Jumlah data load weight pada dropoff site ZILKER adalah: 1024 data\n",
      " \n",
      "Jumlah data load weight pada dropoff site PARK BEND adalah: 396 data\n",
      " \n",
      "Jumlah data load weight pada dropoff site TDS - MRF adalah: 54037 data\n",
      " \n"
     ]
    }
   ],
   "source": [
    "list_dropoff = data_mentah[\"dropoff_site\"].unique()\n",
    "for a in list_dropoff:\n",
    "    jumlah_data_dropoff = data_mentah.loc[data_mentah[\"dropoff_site\"]==a,\"load_weight\"].count()\n",
    "    print(f\"Jumlah data load weight pada dropoff site {a} adalah: {jumlah_data_dropoff} data\")\n",
    "    print(\" \")"
   ]
  },
  {
   "cell_type": "markdown",
   "metadata": {},
   "source": [
    "Disini kita mendapatkan informasi bahwa jumlah data load weight terbanyak terdapat pada drop off site MRF dengan 89625 data, sedangkan terkecil terdapat pada drop off site KRAMER dengan 316 data. Data ini memiliki arti bahwa drop off site yang sering dijadikan tempat pembuangan sampah adalah MRF dan yang paling jarang adalah KREMER."
   ]
  },
  {
   "cell_type": "markdown",
   "metadata": {},
   "source": [
    "3. Berdasarkan central tendency (mean, median, dan modus) untuk masing-masing site, insight/informasi apa yang bisa kamu sampaikan kepada pemerintah kota?\n",
    "\n",
    "Sekarang mari kita analisis load weight dari kota Austin dengan meninjau nilai rata-rata, median dan modus dari load weight tersebut."
   ]
  },
  {
   "cell_type": "code",
   "execution_count": 16,
   "metadata": {},
   "outputs": [
    {
     "name": "stdout",
     "output_type": "stream",
     "text": [
      "Nilai dari rata-rata dari drop off site MRF adalah: 5305.141835425384\n",
      "Nilai dari median dari drop off site MRF adalah: 4260.0\n",
      "Nilai dari modus dari drop off site MRF adalah: 3460.0\n",
      " \n",
      "Nilai dari rata-rata dari drop off site WILCAB adalah: 5817.0660856935365\n",
      "Nilai dari median dari drop off site WILCAB adalah: 5800.0\n",
      "Nilai dari modus dari drop off site WILCAB adalah: 5800.0\n",
      " \n",
      "Nilai dari rata-rata dari drop off site ELMONT adalah: 5832.501367989056\n",
      "Nilai dari median dari drop off site ELMONT adalah: 5800.0\n",
      "Nilai dari modus dari drop off site ELMONT adalah: 5800.0\n",
      " \n",
      "Nilai dari rata-rata dari drop off site KRAMER adalah: 5855.632911392405\n",
      "Nilai dari median dari drop off site KRAMER adalah: 5800.0\n",
      "Nilai dari modus dari drop off site KRAMER adalah: 5800.0\n",
      " \n",
      "Nilai dari rata-rata dari drop off site CLARKSON adalah: 5833.264248704663\n",
      "Nilai dari median dari drop off site CLARKSON adalah: 5800.0\n",
      "Nilai dari modus dari drop off site CLARKSON adalah: 5800.0\n",
      " \n",
      "Nilai dari rata-rata dari drop off site ZILKER adalah: 9316.125\n",
      "Nilai dari median dari drop off site ZILKER adalah: 7290.0\n",
      "Nilai dari modus dari drop off site ZILKER adalah: 15000.0\n",
      " \n",
      "Nilai dari rata-rata dari drop off site PARK BEND adalah: 7474.267676767677\n",
      "Nilai dari median dari drop off site PARK BEND adalah: 5500.0\n",
      "Nilai dari modus dari drop off site PARK BEND adalah: 5500.0\n",
      " \n",
      "Nilai dari rata-rata dari drop off site TDS - MRF adalah: 10116.689435016748\n",
      "Nilai dari median dari drop off site TDS - MRF adalah: 10960.0\n",
      "Nilai dari modus dari drop off site TDS - MRF adalah: 12300.0\n",
      " \n"
     ]
    }
   ],
   "source": [
    "def central_tendency(b):\n",
    "    rata2 = data_mentah.loc[data_mentah[\"dropoff_site\"]==b,\"load_weight\"].mean()\n",
    "    median = data_mentah.loc[data_mentah[\"dropoff_site\"]==b,\"load_weight\"].median()\n",
    "    modus = data_mentah.loc[data_mentah[\"dropoff_site\"]==b,\"load_weight\"].mode()[0]\n",
    "    print(f\"Nilai dari rata-rata dari drop off site {b} adalah:\",rata2)\n",
    "    print(f\"Nilai dari median dari drop off site {b} adalah:\",median)\n",
    "    print(f\"Nilai dari modus dari drop off site {b} adalah:\",modus)\n",
    "    print(\" \")\n",
    "\n",
    "for c in list_dropoff:\n",
    "    central_tendency(c)"
   ]
  },
  {
   "cell_type": "markdown",
   "metadata": {},
   "source": [
    "Disini kita mendapat beberapa informasi yang menarik diantaranya: \n",
    "- Nilai rata-rata tertinggi terdapat pada site TDS-MRF dengan nilai 10116.689435016748.\n",
    "- Nilai rata-rata terendah terdapat pada site MDF dengan nilai 5305.141835425384.\n",
    "- Nilai median tertinggi terdapat pada site TDS-MRF dengan nilai 10960.0.\n",
    "- Nilai median terendah terdapat pada site MRF dengan nilai 4260.0.\n",
    "- Nilai modus tertinggi terdapat pada site ZILKER dengna nilai 15000.0.\n",
    "- Nilai modus terendah terdapat pada site MRF dengan nilai 3460.0.\n",
    "\n",
    "Dari eksplorasi data tersebut terdapat beberapa hal yang menarik perhatian: \n",
    "- Drop off site MRF memiliki data terbanyak tetapi memiliki nilai central of tendency terkecil diantara site lainnya.\n",
    "- Drop off site TDS-MRF miliki data terbanyak kedua tetapi memiliki nilai central of tendency rata-rata dan median tertinggi.\n",
    "- Drop off site WILCAB, ELMONT, KRAMER dan CLARKSON memiliki kemiripan nilai rata-rata walaupun tidak sama persis, tetapi keempat site tersebut memiliki nilai median dan modus yang sama."
   ]
  },
  {
   "cell_type": "markdown",
   "metadata": {},
   "source": [
    "4. Pilih site yang paling menarik perhatian kamu, dan berikan alasannya.\n",
    "\n",
    "Mari kita lihat persebaran data, skewness dan kurtosis dari site MRF karena memiliki jumlah data terbanyak tetapi memiliki \n",
    "central of tendency terendah dan TDS-MRF karena memiliki nilai rata-rata dan median tertinggi."
   ]
  },
  {
   "cell_type": "code",
   "execution_count": 17,
   "metadata": {},
   "outputs": [],
   "source": [
    "data_lw_mrf = data_mentah.loc[data_mentah[\"dropoff_site\"]==\"MRF\",\"load_weight\"].reset_index(drop=True)\n",
    "data_lw_tds_mrf = data_mentah.loc[data_mentah[\"dropoff_site\"]==\"TDS - MRF\",\"load_weight\"].reset_index(drop=True)"
   ]
  },
  {
   "cell_type": "code",
   "execution_count": 18,
   "metadata": {},
   "outputs": [
    {
     "name": "stdout",
     "output_type": "stream",
     "text": [
      "Nilai dari Skewness data load weight dari dropoff site MRF adalah: 1.0010205810425372\n",
      "Nilai dari Kurtosis data load weight dari dropoff site MRF adalah: 0.16851853454753618\n"
     ]
    },
    {
     "data": {
      "text/plain": [
       "<matplotlib.legend.Legend at 0x1e7274c2b80>"
      ]
     },
     "execution_count": 18,
     "metadata": {},
     "output_type": "execute_result"
    },
    {
     "data": {
      "image/png": "[encoded data removed]",
      "text/plain": [
       "<Figure size 432x288 with 1 Axes>"
      ]
     },
     "metadata": {
      "needs_background": "light"
     },
     "output_type": "display_data"
    }
   ],
   "source": [
    "# Persebaran data, skewness dan kurtosis dari load weight dropoff site MRF\n",
    "print(\"Nilai dari Skewness data load weight dari dropoff site MRF adalah:\",data_lw_mrf.skew())\n",
    "print(\"Nilai dari Kurtosis data load weight dari dropoff site MRF adalah:\",data_lw_mrf.kurt())\n",
    "sns.histplot(data_lw_mrf,kde=True,label=\"Data Load Weight Dropoff Site MRF\",color=\"blue\")\n",
    "plt.legend()"
   ]
  },
  {
   "cell_type": "markdown",
   "metadata": {},
   "source": [
    "Terlihat dari grafik persebaran data bahwa data tersebut tidak mengikuti distribusi normal dengan tipe skew right dan grafik yang terdapat dua puncak dari data tersebut sehingga nilai kurtosis disini menjadi tidak pasti."
   ]
  },
  {
   "cell_type": "code",
   "execution_count": 19,
   "metadata": {},
   "outputs": [
    {
     "name": "stdout",
     "output_type": "stream",
     "text": [
      "Nilai dari Skewness data load weight dari dropoff site TDS - MRF adalah: -0.035588393699020365\n",
      "Nilai dari Kurtosis data load weight dari dropoff site TDS - MRF adalah: 0.05658712749032979\n"
     ]
    },
    {
     "data": {
      "text/plain": [
       "<matplotlib.legend.Legend at 0x1e7274c2d30>"
      ]
     },
     "execution_count": 19,
     "metadata": {},
     "output_type": "execute_result"
    },
    {
     "data": {
      "image/png": "[encoded data removed]",
      "text/plain": [
       "<Figure size 432x288 with 1 Axes>"
      ]
     },
     "metadata": {
      "needs_background": "light"
     },
     "output_type": "display_data"
    }
   ],
   "source": [
    "# Persebaran data, skewness dan kurtosis dari load weight dropoff site TDS - MRF\n",
    "print(\"Nilai dari Skewness data load weight dari dropoff site TDS - MRF adalah:\",data_lw_tds_mrf.skew())\n",
    "print(\"Nilai dari Kurtosis data load weight dari dropoff site TDS - MRF adalah:\",data_lw_tds_mrf.kurt())\n",
    "sns.histplot(data_lw_tds_mrf,kde=True,label=\"Data Load Weight Dropoff Site TDS - MRF\",color=\"blue\")\n",
    "plt.legend()"
   ]
  },
  {
   "cell_type": "markdown",
   "metadata": {},
   "source": [
    "Terlihat dari grafik persebaran data bahwa data tersebut tidak mengikuti distribusi normal dengan tipe skew left dan grafik yang terdapat dua puncak dari data tersebut sehingga nilai kurtosis disini menjadi tidak pasti."
   ]
  },
  {
   "cell_type": "markdown",
   "metadata": {},
   "source": [
    "Maksud dari nilai skewness dan kurtosis disini adalah untuk melihat persebaran data yang terdapat pada drop off site tersebut. Terlihat dari grafik bahwa data memiliki kecenderungan terpusat di tengah sehingga mengartikan bahwa persebaran data tersebut tidak menyebar dengan baik."
   ]
  },
  {
   "cell_type": "markdown",
   "metadata": {},
   "source": [
    "5. Gunakan site yang kamu pilih untuk dicek apakah data load_weight ada outlier atau tidak. Gunakan teknik yang tepat sesuai dengan distribusi dari datanya!. Jika iya, berapa persen jumlah outliernya? dan bandingkan central tendency data yang telah dikeluarkan outliernya dengan yang belum (hasil dari perhitungan nomor 3).\n",
    "\n",
    "Mari kita lihat data load weight dari site MRF dan TDS-MRF apakah dalam data tersebut terdapat data yang diluar dari outlier."
   ]
  },
  {
   "cell_type": "code",
   "execution_count": 20,
   "metadata": {},
   "outputs": [],
   "source": [
    "def hapus_outier(e):\n",
    "    iqr_data = e.quantile([0.75])[0.75] - e.quantile([0.25])[0.25]\n",
    "    batas_atas = e.quantile([0.75])[0.75] + 1.5*iqr_data\n",
    "    batas_bawah = e.quantile([0.25])[0.25] - 1.5*iqr_data\n",
    "    for d in range(0,len(e)):\n",
    "        if e[d] > batas_atas or e[d] < batas_bawah:\n",
    "            del e[d]\n",
    "        else:\n",
    "            continue\n",
    "    e.reset_index(drop=True,inplace=True)\n",
    "    plt.figure(figsize=(10,10))\n",
    "    e.plot(kind=\"box\",title=\"Boxplot Data Setelah Hapus Outlier\")"
   ]
  },
  {
   "cell_type": "code",
   "execution_count": 21,
   "metadata": {},
   "outputs": [
    {
     "data": {
      "text/plain": [
       "<AxesSubplot:title={'center':'Box plot Data MRF'}>"
      ]
     },
     "execution_count": 21,
     "metadata": {},
     "output_type": "execute_result"
    },
    {
     "data": {
      "image/png": "[encoded data removed]",
      "text/plain": [
       "<Figure size 720x720 with 1 Axes>"
      ]
     },
     "metadata": {
      "needs_background": "light"
     },
     "output_type": "display_data"
    }
   ],
   "source": [
    "plt.figure(figsize=(10,10))\n",
    "data_lw_mrf.plot(kind=\"box\",title=\"Box plot Data MRF\")"
   ]
  },
  {
   "cell_type": "markdown",
   "metadata": {},
   "source": [
    "Berdasarkan grafik box plot diatas terdapat data yang diluar outlier yang ditunjukan oleh lingkaran yang berada diluar batas garis batas boxplot. Hal tersebut menunjukan bahwa data yang berada diluar outlier berada jauh dari nilai rata-rata dan nilai median dari data tersebut. Maka dari itu kita akan menghapus data tersebut.\n",
    "Dikarenakan data yang berada diluar outlier tersebut sangat banyak, maka kita akan menggunakan perhitungan Extreme Value Analysis."
   ]
  },
  {
   "cell_type": "code",
   "execution_count": 22,
   "metadata": {},
   "outputs": [
    {
     "data": {
      "image/png": "[encoded data removed]",
      "text/plain": [
       "<Figure size 720x720 with 1 Axes>"
      ]
     },
     "metadata": {
      "needs_background": "light"
     },
     "output_type": "display_data"
    }
   ],
   "source": [
    "hapus_outier(data_lw_mrf)"
   ]
  },
  {
   "cell_type": "markdown",
   "metadata": {},
   "source": [
    "Dari Hasil perhitungan EVA masih terdapat data outlier, maka dari itu lakukan kembali sampai dengan tidk ada data yang berada diluar batas (sampai data outlier menjadi tidak ada)"
   ]
  },
  {
   "cell_type": "code",
   "execution_count": 23,
   "metadata": {},
   "outputs": [
    {
     "data": {
      "image/png": "[encoded data removed]",
      "text/plain": [
       "<Figure size 720x720 with 1 Axes>"
      ]
     },
     "metadata": {
      "needs_background": "light"
     },
     "output_type": "display_data"
    }
   ],
   "source": [
    "hapus_outier(data_lw_mrf)"
   ]
  },
  {
   "cell_type": "code",
   "execution_count": 24,
   "metadata": {},
   "outputs": [
    {
     "data": {
      "image/png": "[encoded data removed]",
      "text/plain": [
       "<Figure size 720x720 with 1 Axes>"
      ]
     },
     "metadata": {
      "needs_background": "light"
     },
     "output_type": "display_data"
    }
   ],
   "source": [
    "hapus_outier(data_lw_mrf)"
   ]
  },
  {
   "cell_type": "code",
   "execution_count": 25,
   "metadata": {},
   "outputs": [
    {
     "data": {
      "image/png": "[encoded data removed]",
      "text/plain": [
       "<Figure size 720x720 with 1 Axes>"
      ]
     },
     "metadata": {
      "needs_background": "light"
     },
     "output_type": "display_data"
    }
   ],
   "source": [
    "hapus_outier(data_lw_mrf)"
   ]
  },
  {
   "cell_type": "code",
   "execution_count": 26,
   "metadata": {},
   "outputs": [
    {
     "data": {
      "image/png": "[encoded data removed]",
      "text/plain": [
       "<Figure size 720x720 with 1 Axes>"
      ]
     },
     "metadata": {
      "needs_background": "light"
     },
     "output_type": "display_data"
    }
   ],
   "source": [
    "hapus_outier(data_lw_mrf)"
   ]
  },
  {
   "cell_type": "code",
   "execution_count": 27,
   "metadata": {},
   "outputs": [
    {
     "data": {
      "image/png": "[encoded data removed]",
      "text/plain": [
       "<Figure size 720x720 with 1 Axes>"
      ]
     },
     "metadata": {
      "needs_background": "light"
     },
     "output_type": "display_data"
    }
   ],
   "source": [
    "hapus_outier(data_lw_mrf)"
   ]
  },
  {
   "cell_type": "code",
   "execution_count": 28,
   "metadata": {},
   "outputs": [
    {
     "data": {
      "image/png": "[encoded data removed]",
      "text/plain": [
       "<Figure size 720x720 with 1 Axes>"
      ]
     },
     "metadata": {
      "needs_background": "light"
     },
     "output_type": "display_data"
    }
   ],
   "source": [
    "hapus_outier(data_lw_mrf)"
   ]
  },
  {
   "cell_type": "code",
   "execution_count": 29,
   "metadata": {},
   "outputs": [
    {
     "data": {
      "image/png": "[encoded data removed]",
      "text/plain": [
       "<Figure size 720x720 with 1 Axes>"
      ]
     },
     "metadata": {
      "needs_background": "light"
     },
     "output_type": "display_data"
    }
   ],
   "source": [
    "hapus_outier(data_lw_mrf)"
   ]
  },
  {
   "cell_type": "markdown",
   "metadata": {},
   "source": [
    "Sekarang untuk data load weight drop off site MRF sudah tidak ada lagi data outlier. Kita lakukan hal yang sama juga kepada data load weight drop off site TDS - MRF."
   ]
  },
  {
   "cell_type": "code",
   "execution_count": 30,
   "metadata": {},
   "outputs": [
    {
     "data": {
      "text/plain": [
       "<AxesSubplot:title={'center':'Box plot Data TDS - MRF'}>"
      ]
     },
     "execution_count": 30,
     "metadata": {},
     "output_type": "execute_result"
    },
    {
     "data": {
      "image/png": "[encoded data removed]",
      "text/plain": [
       "<Figure size 720x720 with 1 Axes>"
      ]
     },
     "metadata": {
      "needs_background": "light"
     },
     "output_type": "display_data"
    }
   ],
   "source": [
    "plt.figure(figsize=(10,10))\n",
    "data_lw_tds_mrf.plot(kind=\"box\",title=\"Box plot Data TDS - MRF\")"
   ]
  },
  {
   "cell_type": "markdown",
   "metadata": {},
   "source": [
    "Berdasarkan grafik box plot diatas terdapat data yang diluar outlier yang ditunjukan oleh lingkaran yang berada diluar batas garis batas boxplot. Hal tersebut menunjukan bahwa data yang berada diluar outlier berada jauh dari nilai rata-rata dan nilai median dari data tersebut. Maka dari itu kita akan menghapus data tersebut.\n",
    "Dikarenakan data yang berada diluar outlier tersebut sangat banyak, maka kita akan menggunakan perhitungan Extreme Value Analysis."
   ]
  },
  {
   "cell_type": "code",
   "execution_count": 31,
   "metadata": {},
   "outputs": [
    {
     "data": {
      "image/png": "[encoded data removed]",
      "text/plain": [
       "<Figure size 720x720 with 1 Axes>"
      ]
     },
     "metadata": {
      "needs_background": "light"
     },
     "output_type": "display_data"
    }
   ],
   "source": [
    "hapus_outier(data_lw_tds_mrf)"
   ]
  },
  {
   "cell_type": "markdown",
   "metadata": {},
   "source": [
    "Dari Hasil perhitungan EVA masih terdapat data outlier, maka dari itu lakukan kembali sampai dengan tidk ada data yang berada diluar batas (sampai data outlier menjadi tidak ada)"
   ]
  },
  {
   "cell_type": "code",
   "execution_count": 32,
   "metadata": {},
   "outputs": [
    {
     "data": {
      "image/png": "[encoded data removed]",
      "text/plain": [
       "<Figure size 720x720 with 1 Axes>"
      ]
     },
     "metadata": {
      "needs_background": "light"
     },
     "output_type": "display_data"
    }
   ],
   "source": [
    "hapus_outier(data_lw_tds_mrf)"
   ]
  },
  {
   "cell_type": "markdown",
   "metadata": {},
   "source": [
    "Sekarang untuk data load weight drop off site TDS - MRF sudah tidak ada lagi data outlier.\n",
    "\n",
    "Mari kita analisis Central of Tendency sebelum dan sesdah dilakukannya pembersihan data outliers."
   ]
  },
  {
   "cell_type": "code",
   "execution_count": 33,
   "metadata": {},
   "outputs": [],
   "source": [
    "def CT_baru(f):\n",
    "    print(\"Jumlah data setelah pengurangan data outlier adalah:\",f.count())\n",
    "    print(\"Nilai dari rata-rata yang baru adalah:\",f.mean())\n",
    "    print(\"Nilai dari median yang baru adalah:\",f.median())\n",
    "    print(\"Nilai dari modus yang baru adalah:\",f.mode()[0])"
   ]
  },
  {
   "cell_type": "code",
   "execution_count": 34,
   "metadata": {},
   "outputs": [
    {
     "name": "stdout",
     "output_type": "stream",
     "text": [
      "Jumlah data setelah pengurangan data outlier adalah: 74821\n",
      "Nilai dari rata-rata yang baru adalah: 3940.5568891086727\n",
      "Nilai dari median yang baru adalah: 3740.0\n",
      "Nilai dari modus yang baru adalah: 3460.0\n"
     ]
    }
   ],
   "source": [
    "CT_baru(data_lw_mrf)"
   ]
  },
  {
   "cell_type": "markdown",
   "metadata": {},
   "source": [
    "Perbandingan central of tendency data load weight di drop off site MRF sebagai berikut:\n",
    "- Jumlah data load weight pada dropoff site MRF sebelum adalah: 89625 data\n",
    "- Jumlah data load weight pada dropoff site MRF setelah adalah: 74821 data\n",
    "- Nilai dari rata-rata dari drop off site MRF sebelum adalah: 5305.141835425384\n",
    "- Nilai dari rata-rata dari drop off site MRF setelah adalah: 3940.5568891086727\n",
    "- Nilai dari median dari drop off site MRF sebelum adalah: 4260.0\n",
    "- Nilai dari median dari drop off site MRF setelah adalah: 3740.0\n",
    "- Nilai dari modus dari drop off site MRF sebelum adalah: 3460.0\n",
    "- Nilai dari modus dari drop off site MRF setelah adalah: 3460.0\n",
    "\n",
    "Terdapat penurunan pada jumlah data, rata-rata dan median dikarenakan penghapusan data outliner, sedangkan untuk nilai modus tetap tidak berubah. Penurunan jumlah data sebesar 16.5%, penurunan rata-rata sebesar 25.7% dan penurunan median sebesar 12.2%."
   ]
  },
  {
   "cell_type": "code",
   "execution_count": 35,
   "metadata": {},
   "outputs": [
    {
     "name": "stdout",
     "output_type": "stream",
     "text": [
      "Jumlah data setelah pengurangan data outlier adalah: 53740\n",
      "Nilai dari rata-rata yang baru adalah: 10039.086378861184\n",
      "Nilai dari median yang baru adalah: 10920.0\n",
      "Nilai dari modus yang baru adalah: 12300.0\n"
     ]
    }
   ],
   "source": [
    "CT_baru(data_lw_tds_mrf)"
   ]
  },
  {
   "cell_type": "markdown",
   "metadata": {},
   "source": [
    "Perbandingan central of tendency data load weight di drop off site TDS - MRF sebagai berikut:\n",
    "- Jumlah data load weight pada dropoff site TDS - MRF sebelum adalah: 54037 data\n",
    "- Jumlah data load weight pada dropoff site TDS - MRF setelah adalah: 53740 data\n",
    "- Nilai dari rata-rata dari drop off site TDS - MRF sebelum adalah: 10116.689435016748\n",
    "- Nilai dari rata-rata dari drop off site TDS - MRF setelah adalah: 10039.086378861184\n",
    "- Nilai dari median dari drop off site TDS - MRF sebelum adalah: 10960.0\n",
    "- Nilai dari median dari drop off site TDS - MRF setelah adalah: 10920.0\n",
    "- Nilai dari modus dari drop off site TDS - MRF sebelum adalah: 12300.0\n",
    "- Nilai dari modus dari drop off site TDS - MRF setelah adalah: 12300.0\n",
    "\n",
    "Terdapat penurunan pada jumlah data dan rata-rata dikarenakan penghapusan data outliner, sedangkan untuk nilai median dan modus tetap tidak berubah. Penurunan jumlah data sebesar 0.55%, penurunan rata-rata sebesar 0.77%."
   ]
  },
  {
   "cell_type": "markdown",
   "metadata": {},
   "source": [
    "6. Gunakan site yang telah kamu pilih untuk dihitung range, variance, dan standar deviasi untuk data load_weight. Berikan insight dari hasil perhitunganmu kepada pemerintah kota (Pastikan data yang digunakan adalah data yang sudah dibersihkan dari outlier)."
   ]
  },
  {
   "cell_type": "code",
   "execution_count": 36,
   "metadata": {},
   "outputs": [],
   "source": [
    "def variansi_data(g):\n",
    "    print(\"Nilai minimum data:\",g.min())\n",
    "    print(\"Nilai maximum data:\",g.max())\n",
    "    print(\"Nilai range data:\",g.max() - g.min())\n",
    "    print(\"Nilai standar deviasi data:\",g.std())\n",
    "    print(\"Nilai dari variansi data:\",g.var())"
   ]
  },
  {
   "cell_type": "code",
   "execution_count": 37,
   "metadata": {},
   "outputs": [
    {
     "name": "stdout",
     "output_type": "stream",
     "text": [
      "Nilai minimum data: 0.0\n",
      "Nilai maximum data: 9480.0\n",
      "Nilai range data: 9480.0\n",
      "Nilai standar deviasi data: 2099.5480807287663\n",
      "Nilai dari variansi data: 4408102.143291847\n"
     ]
    }
   ],
   "source": [
    "variansi_data(data_lw_mrf)"
   ]
  },
  {
   "cell_type": "markdown",
   "metadata": {},
   "source": [
    "Berdasarkan data diatas, kita mendapat informasi bahwa range, standar deviasi dan varansi dari data load weight drop off site MRF adalah 9480, 2099.5480807287663 dan 4408102.143291847. Hal yang kita dapat dari data tersebut adalah bahwa drop off sampah pada site MRF berada di range 9480 dengan rentang 2099.5480807287663. Maksud dari hal tersebut adalah bahwa jumlah sampah yang di drop off site MRF berada di sekitar (9480 - 2099.5480807287663) dan (9480 + 2099.5480807287663)"
   ]
  },
  {
   "cell_type": "code",
   "execution_count": 38,
   "metadata": {},
   "outputs": [
    {
     "name": "stdout",
     "output_type": "stream",
     "text": [
      "Nilai minimum data: 0.0\n",
      "Nilai maximum data: 22140.0\n",
      "Nilai range data: 22140.0\n",
      "Nilai standar deviasi data: 4282.098008467237\n",
      "Nilai dari variansi data: 18336363.354119077\n"
     ]
    }
   ],
   "source": [
    "variansi_data(data_lw_tds_mrf)"
   ]
  },
  {
   "cell_type": "markdown",
   "metadata": {},
   "source": [
    "Berdasarkan data diatas, kita mendapat informasi bahwa range, standar deviasi dan varansi dari data load weight drop off site MRF adalah 22140.0, 4282.098008467237 dan 18360370.914560582. Hal yang kita dapat dari data tersebut adalah bahwa drop off sampah pada site MRF berada di range 22140.0 dengan rentang 4282.098008467237. Maksud dari hal tersebut adalah bahwa jumlah sampah yang di drop off site MRF berada di sekitar (22140.0 - 4282.098008467237) dan (22140.0 + 4282.098008467237)"
   ]
  },
  {
   "cell_type": "markdown",
   "metadata": {},
   "source": [
    "7. Pemerintah kota berencana menambah site baru. Berikan analisa dan saran terkait berapa kapasitas penampungan di site baru berdasarkan perhitungan confidence interval. Data apa yang kamu gunakan, apakah hanya dari satu site saja atau dari keseluruhan site?\n",
    "\n",
    "- Jika pemerintah ingin menambah site baru, maka kapasitas site tersebut dapat ditentukan dari nilai rata-rata dan standar \n",
    "deviasi dari load weight secara keseluruhan. Hal ini dikarenakan nilai rata-rata dan standar deviasi memiliki arti bahwa load \n",
    "weight sampah berkisar di nilai tersebut, sehingga kapasitas penampungan site sampah yang baru harus berkisar dari nilai \n",
    "rata-rata dan standar deviasi dari load weight data keseluruhan.\n",
    "\n",
    "- Saran untuk pemerintah adalah tidak perlu menambah site dikarenakan terdapat ke-tidak-rataan drop off sampah yang terjadi \n",
    "di kota Austin, seperti pada site WILCAB, ELMONT, KRAMER dan CLARKSON terjadi kekosongan sampah. Maka pemerintah perlu \n",
    "melakukan pemerataan drop off sampah agar sampah di kota Austin menjadi tertampung dengan baik."
   ]
  },
  {
   "cell_type": "markdown",
   "metadata": {},
   "source": [
    "8. Buatlah analisa uji hipotesis dari data tersebut dari data yang tersedia (kasusnya dibebaskan). Definisikan H0 dan H1 nya serta lakukan perhitungan menggunakan t-test yang sesuai dengan hipotesis kamu. Tulis kesimpulan dari hasil perhitunganmu kepada pemerintah kota (Ingat! pemerintah kota tidak mengerti p-value, hipotesis diterima/tidak diterima)."
   ]
  },
  {
   "cell_type": "markdown",
   "metadata": {},
   "source": [
    "Disini kita akan menguji apakah nilai rata-rata populasi dari drop off site MRF sama dengan drop off site TDS - MRF. Pemerintah percaya bahwa setiap drop off site memiliki nilai rata-rata load weight yang sama, tetapi berdasarkan data yang diperoleh, nilai rata-rata untuk drop off site itu berbeda. Dalam kasus ini kita gunakan drop off site MRF dan TDS - MRF sebagai drop off site acuan."
   ]
  },
  {
   "cell_type": "markdown",
   "metadata": {},
   "source": [
    "Dalam kasus ini, hipotesis tersebut dinotasikan menjadi:\n",
    "\n",
    "**H0: μ MRF = μ TDS - MRF**\n",
    "\n",
    "**H1: μ MRF != μ TDS - MRF**"
   ]
  },
  {
   "cell_type": "code",
   "execution_count": 39,
   "metadata": {},
   "outputs": [
    {
     "name": "stdout",
     "output_type": "stream",
     "text": [
      "Nilia dari rata-rata load weight MRF adalah: 3940.5568891086727\n",
      "Nilai dari standar deviasi load weight MRF adalah: 2099.5480807287663\n",
      "Nilai dari rata-rata load weight TDS - MRF adalah: 10039.086378861184\n",
      "Nilai dari standar deviasi dari load weight TDS - MRF adalah: 4282.098008467237\n",
      "Nilai alfa yang digunakan adalah: 0.05\n",
      "Nilai dari P adalah: 0.0\n",
      "Nilai dari t hitung adalah: -337.20014340493174\n"
     ]
    }
   ],
   "source": [
    "rata2_mrf = data_lw_mrf.mean()\n",
    "std_mrf = data_lw_mrf.std()\n",
    "rata2_tds_mrf = data_lw_tds_mrf.mean()\n",
    "std_tds_mrf = data_lw_tds_mrf.std()\n",
    "alfa = 0.05\n",
    "t_hitung,nilai_p = stats.ttest_ind(data_lw_mrf,data_lw_tds_mrf)\n",
    "print(\"Nilia dari rata-rata load weight MRF adalah:\",rata2_mrf)\n",
    "print(\"Nilai dari standar deviasi load weight MRF adalah:\",std_mrf)\n",
    "print(\"Nilai dari rata-rata load weight TDS - MRF adalah:\",rata2_tds_mrf)\n",
    "print(\"Nilai dari standar deviasi dari load weight TDS - MRF adalah:\",std_tds_mrf)\n",
    "print(\"Nilai alfa yang digunakan adalah:\",alfa)\n",
    "print(\"Nilai dari P adalah:\",nilai_p)\n",
    "print(\"Nilai dari t hitung adalah:\",t_hitung)"
   ]
  },
  {
   "cell_type": "code",
   "execution_count": 40,
   "metadata": {},
   "outputs": [
    {
     "data": {
      "image/png": "[encoded data removed]",
      "text/plain": [
       "<Figure size 1440x576 with 1 Axes>"
      ]
     },
     "metadata": {
      "needs_background": "light"
     },
     "output_type": "display_data"
    }
   ],
   "source": [
    "data_lw_mrf_pop = np.random.normal(rata2_mrf,std_mrf,1000000)\n",
    "data_lw_tds_mrf_pop = np.random.normal(rata2_tds_mrf,std_tds_mrf,1000000)\n",
    "rata2_mrf_pop = data_lw_mrf_pop.mean()\n",
    "std_mrf_pop = data_lw_mrf_pop.std()\n",
    "nilai_ci = stats.norm.interval(0.95,rata2_mrf,std_mrf)\n",
    "\n",
    "plt.figure(figsize=(20,8))\n",
    "sns.histplot(data_lw_mrf_pop,kde=True,label=\"Data Populasi Load Weight Site MRF\",color=\"blue\")\n",
    "sns.histplot(data_lw_tds_mrf_pop,kde=True,label=\"Data Populasi Load Weight Site TDS - MRF\",color=\"red\")\n",
    "plt.axvline(rata2_mrf,color=\"blue\",linewidth=2,label=\"Rata-rata load weight MRF\")\n",
    "plt.axvline(rata2_tds_mrf,color=\"red\",linewidth=2,label=\"Rata-rata load weight TDS - MRF\")\n",
    "plt.axvline(nilai_ci[1],color=\"green\",linestyle=\"dashed\",linewidth=2,label=\"Confidence Threshold 95%\")\n",
    "plt.axvline(nilai_ci[0],color=\"green\",linestyle=\"dashed\",linewidth=2)\n",
    "plt.axvline(rata2_mrf_pop+t_hitung*std_mrf_pop,color=\"black\",linestyle=\"dashed\",linewidth=2,label=\"Alternative Hypothesis\")\n",
    "plt.axvline(rata2_mrf_pop-t_hitung*std_mrf_pop,color=\"black\",linestyle=\"dashed\",linewidth=2)\n",
    "plt.legend()\n",
    "plt.show()"
   ]
  },
  {
   "cell_type": "markdown",
   "metadata": {},
   "source": [
    "Berdasarkan grafik tersebut terlihat bahwa garis hitam berada diluar area garis hijau, yang dimana hal tersebut berarti bahwa rata-rata load weight drop off site MRF tidak sama dengan rata-rata drop off site TDS - MRF."
   ]
  },
  {
   "cell_type": "markdown",
   "metadata": {},
   "source": [
    "Tarik benang merah dan kesimpulan dari perhitungan dan analisa yang kamu telah lakukan di langkah-langkah sebelumnya. Ceritakan kesimpulanmu kepada pemerintah kota dan hindari bahasa teknis yang tidak dimengerti oleh orang yang bukan data scientist!\n",
    "\n",
    "Kesimpulan yang bisa diambil dari proses data ini adalah : \n",
    "- Nilai dari rata-rata load weight setiap drop off site berbeda-beda, dengan penyebaran data yang tidak merata yang ditujukan oleh nilai rata-rata yang  berbeda dan grafik yang tidak berdistribusi normal.\n",
    "- Terdapat drop off site yang tidak terisi oleh load weight sampah, sehingga memunculkan kesenjangan load weight di setiap drop off site.\n",
    "- Diperlukan pendataan lebih lanjut dikarenakan terdapat nilai yang tidak ada pada load weight di beberapa drop off site.\n",
    "- Pemerintah tidak perlu menambah drop off site, hanya pemerintah perlu melakukan pemerataan drop load weight di setiap drop off site dengan merata."
   ]
  },
  {
   "cell_type": "markdown",
   "metadata": {},
   "source": [
    "Jawab pertanyaan berikut untuk mengasah pemahaman konsepmu!\n",
    "\n",
    "1. Apa perbedaan statistik deskriptif dan inferensial?\n",
    "- Statistika deskriptif adalah metode-metode yang berkaitan dengan pengumpulan dan penyajian suatu data sehingga memberikan informasi yang berguna. Sedangkan statistika inferensial merupakan metode-metode ayng digunakan dari data sampel dengan tujuan untuk mengambil kesimpulan dan memprediksi hal yang akan datang.\n",
    "2. Metrik pada central tendency apa yang tepat digunakan untuk menyimpulkan data yang terdistribusi normal dan tidak? Apakah sama atau berbeda?\n",
    "- Metrik central tendency yang digunakan untuk data yang terdistribusi normal maupun tidak it sama, dikarenakan central tendency merupakan nilai yang menunjukan letak data dan dapat digunakan oleh semua jenis data.\n",
    "3. Teknik apa yang kamu pilih untuk handling outlier? jelaskan alasannya!\n",
    "- Teknik yang digunakan dalam handling outlier dalam kasus ini menggunakan Extreme Value Analysist (EVA) dikarenakan jenis data dalam kasus ini tidak berdistribusi normal.\n",
    "4. Apa konsep dibalik central tendency sehingga kita dapat menggunakannya untuk menyelesaikan langkah pada nomor 7?\n",
    "- Central tendency merupakan nilai yang menunjukan letak data dan dapat digunakan oleh semua jenis data. Nilai dari central tendency dapat digunakan untuk menentukan karakteristik dari data tersebut sehingga kita dapat memprediksi langkah kedepan yang diambil berdasarkan nilai central of tendency.\n",
    "5. Jelaskan jenis uji hipotesis apa yang kamu terapkan dan mengapa?\n",
    "- Uji hipotesis yang dilakukan pada kasus ini adalah uji hipotesis two sample with two tail dikarenakan kita ingin mencari nilai kesamaan rata-rata dalan setiap drop off site apakah sama atau tidak, sehingga kita dapat memprediksi apakah data tersebut memiliki rata-rata yang sama dalam arti karaktersitik dari data tersebut sama atau tidak. Penentuan tersebut dapat digunakan untuk memprediksi apakah perlu dilakukan penambahan site atau perlu diberlakukannya perlakuan khusus untuk setiap site."
   ]
  }
 ],
 "metadata": {
  "kernelspec": {
   "display_name": "Python 3.9.12 ('base')",
   "language": "python",
   "name": "python3"
  },
  "language_info": {
   "codemirror_mode": {
    "name": "ipython",
    "version": 3
   },
   "file_extension": ".py",
   "mimetype": "text/x-python",
   "name": "python",
   "nbconvert_exporter": "python",
   "pygments_lexer": "ipython3",
   "version": "3.9.12"
  },
  "orig_nbformat": 4,
  "vscode": {
   "interpreter": {
    "hash": "a90aeebcf29d64a654773811cc170cb25061cb2498f10ac689db374c7bf325de"
   }
  }
 },
 "nbformat": 4,
 "nbformat_minor": 2
}
